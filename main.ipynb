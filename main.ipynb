{
 "cells": [
  {
   "cell_type": "markdown",
   "id": "e3940ab3",
   "metadata": {},
   "source": [
    "# Track the International Space Station"
   ]
  },
  {
   "cell_type": "markdown",
   "id": "d7a1ae6d",
   "metadata": {},
   "source": [
    "##### Import Modules"
   ]
  },
  {
   "cell_type": "code",
   "execution_count": 1,
   "id": "ab65b867",
   "metadata": {},
   "outputs": [],
   "source": [
    "import requests\n",
    "import json\n",
    "import time\n",
    "import plotly.graph_objects as go\n",
    "import plotly.express as px"
   ]
  },
  {
   "cell_type": "markdown",
   "id": "a96633fa",
   "metadata": {},
   "source": [
    "##### Function to write to file"
   ]
  },
  {
   "cell_type": "code",
   "execution_count": 53,
   "id": "ed93c915",
   "metadata": {},
   "outputs": [],
   "source": [
    "def file_io(mode,json_data,f_name):\n",
    "    if mode == 'a+' or mode == 'w':\n",
    "        with open(f_name,mode) as f_handler:\n",
    "            json.dump(json_data,f_handler)\n",
    "            f_handler.write(\"\\n\")\n",
    "    elif mode == 'r' :\n",
    "        with open(f_name,mode) as f_handler:\n",
    "            f_content = f_handler.readlines()\n",
    "            return f_content"
   ]
  },
  {
   "cell_type": "markdown",
   "id": "7fa2d474",
   "metadata": {},
   "source": [
    "##### Function to make a call to ISS open-API"
   ]
  },
  {
   "cell_type": "code",
   "execution_count": 80,
   "id": "999ee844",
   "metadata": {},
   "outputs": [],
   "source": [
    "def get_iss_info(write_optn='n',t_interval=1,t_total=1):\n",
    "    print(\"Total number of data points: {}\".format(int(t_total/t_interval)))\n",
    "    f_name = 'iss_data'\n",
    "    t_counter = 0\n",
    "    t_now = 1\n",
    "    info_lst = []\n",
    "    while t_now <= t_total:\n",
    "        iss_data = requests.get('http://api.open-notify.org/iss-now.json').json()\n",
    "        t_now += t_interval\n",
    "        t_counter += 1\n",
    "        if write_optn == 'y':\n",
    "            mode = 'a+'\n",
    "            file_io(mode,iss_data,f_name)\n",
    "        else :\n",
    "            print(iss_data)\n",
    "        time.sleep(t_interval)\n",
    "    return 0\n",
    "    "
   ]
  },
  {
   "cell_type": "markdown",
   "id": "636e7b4b",
   "metadata": {},
   "source": [
    "##### Main"
   ]
  },
  {
   "cell_type": "code",
   "execution_count": 81,
   "id": "f4b240c3",
   "metadata": {
    "scrolled": true
   },
   "outputs": [
    {
     "name": "stdout",
     "output_type": "stream",
     "text": [
      "Total number of data points: 120\n",
      "complete\n"
     ]
    }
   ],
   "source": [
    "a=get_iss_info('y',30,3600)\n",
    "# print(a)\n",
    "f_content = file_io('r','m','iss_data')\n",
    "iss_data_lst = []\n",
    "lat_lst = []\n",
    "lon_lst = []\n",
    "for line in f_content:\n",
    "    iss_data_lst.append(json.loads(line.strip()))\n",
    "for element in iss_data_lst:\n",
    "    lat_lst.append(element['iss_position']['latitude'])\n",
    "    lon_lst.append(element['iss_position']['longitude'])\n",
    "print(\"Data collection complete.\")\n",
    "fig = go.Figure(go.Scattergeo(lat=lat_lst,lon=lon_lst))\n",
    "fig.update_layout(height=400, margin={\"r\":0,\"t\":0,\"l\":0,\"b\":0})\n",
    "print(type(fig))\n",
    "fig.show()"
   ]
  },
  {
   "cell_type": "code",
   "execution_count": null,
   "id": "e54c1753",
   "metadata": {},
   "outputs": [],
   "source": []
  },
  {
   "cell_type": "markdown",
   "id": "b0081d8a",
   "metadata": {},
   "source": [
    "##### Help"
   ]
  },
  {
   "cell_type": "code",
   "execution_count": 91,
   "id": "ab4aad21",
   "metadata": {
    "scrolled": false
   },
   "outputs": [
    {
     "name": "stdout",
     "output_type": "stream",
     "text": [
      "<class 'plotly.graph_objs._figure.Figure'>\n"
     ]
    },
    {
     "data": {
      "application/vnd.plotly.v1+json": {
       "config": {
        "plotlyServerURL": "https://plot.ly"
       },
       "data": [
        {
         "lat": [
          "-39.9108",
          "-41.0502",
          "-42.1318",
          "-43.1716",
          "-44.1831",
          "-45.1297",
          "-46.0251",
          "-46.8798",
          "-47.6621",
          "-48.3828",
          "-49.0494",
          "-49.6366",
          "-50.1528",
          "-50.6018",
          "-50.9663",
          "-51.2521",
          "-51.4573",
          "-51.5821",
          "-51.6214",
          "-51.5779",
          "-51.4489",
          "-51.2395",
          "-50.9497",
          "-50.5744",
          "-50.1282",
          "-49.6082",
          "-49.0070",
          "-48.3469",
          "-47.6225",
          "-46.8371",
          "-45.9793",
          "-45.0809",
          "-44.1315",
          "-43.1172",
          "-42.0747",
          "-40.9907",
          "-39.8488",
          "-38.6890",
          "-37.4758",
          "-36.2514",
          "-34.9986",
          "-33.6975",
          "-32.3930",
          "-31.0435",
          "-29.6954",
          "-28.3281",
          "-26.9199",
          "-25.5184",
          "-24.0783",
          "-22.6477",
          "-21.2047",
          "-19.7258",
          "-18.2609",
          "-16.7617",
          "-15.2787",
          "-13.7884",
          "-12.2662",
          "-10.7581",
          "-9.2500",
          "-7.7124",
          "-6.1965",
          "-4.6777",
          "-3.1312",
          "-1.6089",
          "-0.0604",
          "1.4628",
          "3.0109",
          "4.5325",
          "6.0521",
          "7.5942",
          "9.1073",
          "10.6415",
          "12.1455",
          "13.6439",
          "15.1606",
          "16.6451",
          "18.1214",
          "19.6132",
          "21.0699",
          "22.5395",
          "23.9722",
          "25.3914",
          "26.8192",
          "28.2073",
          "29.6005",
          "30.9517",
          "32.2821",
          "33.6118",
          "34.8947",
          "36.1722",
          "37.3999",
          "38.5968",
          "39.7795",
          "40.9069",
          "42.0133",
          "43.0597",
          "44.0620",
          "45.0324",
          "45.9350",
          "46.7969",
          "47.5864",
          "48.3148",
          "48.9892",
          "49.5841",
          "50.1160",
          "50.5647",
          "50.9424",
          "51.2345",
          "51.4457",
          "51.5764",
          "51.6214",
          "51.5818",
          "51.4592",
          "51.2545",
          "50.9635",
          "50.5976",
          "50.1471",
          "49.5898",
          "48.9955",
          "48.3217"
         ],
         "lon": [
          "-142.0324",
          "-140.0445",
          "-138.0176",
          "-135.9176",
          "-133.7049",
          "-131.4509",
          "-129.1187",
          "-126.6669",
          "-124.1766",
          "-121.6106",
          "-118.9259",
          "-116.2147",
          "-113.4383",
          "-110.5554",
          "-107.6681",
          "-104.7385",
          "-101.7757",
          "-98.7413",
          "-95.7448",
          "-92.7492",
          "-89.7150",
          "-86.7540",
          "-83.8261",
          "-80.8933",
          "-78.0603",
          "-75.2864",
          "-72.5340",
          "-69.8956",
          "-67.3325",
          "-64.8462",
          "-62.3981",
          "-60.0694",
          "-57.8190",
          "-55.6099",
          "-53.5130",
          "-51.4896",
          "-49.5046",
          "-47.6202",
          "-45.7712",
          "-44.0151",
          "-42.3179",
          "-40.6491",
          "-39.0604",
          "-37.4957",
          "-36.0035",
          "-34.5545",
          "-33.1225",
          "-31.7518",
          "-30.3938",
          "-29.0902",
          "-27.8161",
          "-26.5487",
          "-25.3271",
          "-24.1082",
          "-22.9298",
          "-21.7699",
          "-20.6073",
          "-19.4745",
          "-18.3580",
          "-17.2337",
          "-16.1368",
          "-15.0467",
          "-13.9438",
          "-12.8627",
          "-11.7653",
          "-10.6859",
          "-9.5868",
          "-8.5020",
          "-7.4122",
          "-6.2972",
          "-5.1918",
          "-4.0572",
          "-2.9288",
          "-1.7861",
          "-0.6076",
          "0.5700",
          "1.7679",
          "3.0093",
          "4.2548",
          "5.5491",
          "6.8516",
          "8.1861",
          "9.5784",
          "10.9857",
          "12.4575",
          "13.9486",
          "15.4858",
          "17.0993",
          "18.7385",
          "20.4622",
          "22.2167",
          "24.0332",
          "25.9464",
          "27.8970",
          "29.9526",
          "32.0484",
          "34.2203",
          "36.5086",
          "38.8370",
          "41.2851",
          "43.7716",
          "46.3353",
          "49.0181",
          "51.7280",
          "54.5500",
          "57.3863",
          "60.3231",
          "63.2558",
          "66.2214",
          "69.2604",
          "72.2618",
          "75.3137",
          "78.3041",
          "81.2722",
          "84.2559",
          "87.1477",
          "90.0347",
          "93.0296",
          "95.7402",
          "98.4232"
         ],
         "type": "scattergeo"
        }
       ],
       "layout": {
        "height": 400,
        "margin": {
         "b": 0,
         "l": 0,
         "r": 0,
         "t": 0
        },
        "template": {
         "data": {
          "bar": [
           {
            "error_x": {
             "color": "#2a3f5f"
            },
            "error_y": {
             "color": "#2a3f5f"
            },
            "marker": {
             "line": {
              "color": "#E5ECF6",
              "width": 0.5
             },
             "pattern": {
              "fillmode": "overlay",
              "size": 10,
              "solidity": 0.2
             }
            },
            "type": "bar"
           }
          ],
          "barpolar": [
           {
            "marker": {
             "line": {
              "color": "#E5ECF6",
              "width": 0.5
             },
             "pattern": {
              "fillmode": "overlay",
              "size": 10,
              "solidity": 0.2
             }
            },
            "type": "barpolar"
           }
          ],
          "carpet": [
           {
            "aaxis": {
             "endlinecolor": "#2a3f5f",
             "gridcolor": "white",
             "linecolor": "white",
             "minorgridcolor": "white",
             "startlinecolor": "#2a3f5f"
            },
            "baxis": {
             "endlinecolor": "#2a3f5f",
             "gridcolor": "white",
             "linecolor": "white",
             "minorgridcolor": "white",
             "startlinecolor": "#2a3f5f"
            },
            "type": "carpet"
           }
          ],
          "choropleth": [
           {
            "colorbar": {
             "outlinewidth": 0,
             "ticks": ""
            },
            "type": "choropleth"
           }
          ],
          "contour": [
           {
            "colorbar": {
             "outlinewidth": 0,
             "ticks": ""
            },
            "colorscale": [
             [
              0,
              "#0d0887"
             ],
             [
              0.1111111111111111,
              "#46039f"
             ],
             [
              0.2222222222222222,
              "#7201a8"
             ],
             [
              0.3333333333333333,
              "#9c179e"
             ],
             [
              0.4444444444444444,
              "#bd3786"
             ],
             [
              0.5555555555555556,
              "#d8576b"
             ],
             [
              0.6666666666666666,
              "#ed7953"
             ],
             [
              0.7777777777777778,
              "#fb9f3a"
             ],
             [
              0.8888888888888888,
              "#fdca26"
             ],
             [
              1,
              "#f0f921"
             ]
            ],
            "type": "contour"
           }
          ],
          "contourcarpet": [
           {
            "colorbar": {
             "outlinewidth": 0,
             "ticks": ""
            },
            "type": "contourcarpet"
           }
          ],
          "heatmap": [
           {
            "colorbar": {
             "outlinewidth": 0,
             "ticks": ""
            },
            "colorscale": [
             [
              0,
              "#0d0887"
             ],
             [
              0.1111111111111111,
              "#46039f"
             ],
             [
              0.2222222222222222,
              "#7201a8"
             ],
             [
              0.3333333333333333,
              "#9c179e"
             ],
             [
              0.4444444444444444,
              "#bd3786"
             ],
             [
              0.5555555555555556,
              "#d8576b"
             ],
             [
              0.6666666666666666,
              "#ed7953"
             ],
             [
              0.7777777777777778,
              "#fb9f3a"
             ],
             [
              0.8888888888888888,
              "#fdca26"
             ],
             [
              1,
              "#f0f921"
             ]
            ],
            "type": "heatmap"
           }
          ],
          "heatmapgl": [
           {
            "colorbar": {
             "outlinewidth": 0,
             "ticks": ""
            },
            "colorscale": [
             [
              0,
              "#0d0887"
             ],
             [
              0.1111111111111111,
              "#46039f"
             ],
             [
              0.2222222222222222,
              "#7201a8"
             ],
             [
              0.3333333333333333,
              "#9c179e"
             ],
             [
              0.4444444444444444,
              "#bd3786"
             ],
             [
              0.5555555555555556,
              "#d8576b"
             ],
             [
              0.6666666666666666,
              "#ed7953"
             ],
             [
              0.7777777777777778,
              "#fb9f3a"
             ],
             [
              0.8888888888888888,
              "#fdca26"
             ],
             [
              1,
              "#f0f921"
             ]
            ],
            "type": "heatmapgl"
           }
          ],
          "histogram": [
           {
            "marker": {
             "pattern": {
              "fillmode": "overlay",
              "size": 10,
              "solidity": 0.2
             }
            },
            "type": "histogram"
           }
          ],
          "histogram2d": [
           {
            "colorbar": {
             "outlinewidth": 0,
             "ticks": ""
            },
            "colorscale": [
             [
              0,
              "#0d0887"
             ],
             [
              0.1111111111111111,
              "#46039f"
             ],
             [
              0.2222222222222222,
              "#7201a8"
             ],
             [
              0.3333333333333333,
              "#9c179e"
             ],
             [
              0.4444444444444444,
              "#bd3786"
             ],
             [
              0.5555555555555556,
              "#d8576b"
             ],
             [
              0.6666666666666666,
              "#ed7953"
             ],
             [
              0.7777777777777778,
              "#fb9f3a"
             ],
             [
              0.8888888888888888,
              "#fdca26"
             ],
             [
              1,
              "#f0f921"
             ]
            ],
            "type": "histogram2d"
           }
          ],
          "histogram2dcontour": [
           {
            "colorbar": {
             "outlinewidth": 0,
             "ticks": ""
            },
            "colorscale": [
             [
              0,
              "#0d0887"
             ],
             [
              0.1111111111111111,
              "#46039f"
             ],
             [
              0.2222222222222222,
              "#7201a8"
             ],
             [
              0.3333333333333333,
              "#9c179e"
             ],
             [
              0.4444444444444444,
              "#bd3786"
             ],
             [
              0.5555555555555556,
              "#d8576b"
             ],
             [
              0.6666666666666666,
              "#ed7953"
             ],
             [
              0.7777777777777778,
              "#fb9f3a"
             ],
             [
              0.8888888888888888,
              "#fdca26"
             ],
             [
              1,
              "#f0f921"
             ]
            ],
            "type": "histogram2dcontour"
           }
          ],
          "mesh3d": [
           {
            "colorbar": {
             "outlinewidth": 0,
             "ticks": ""
            },
            "type": "mesh3d"
           }
          ],
          "parcoords": [
           {
            "line": {
             "colorbar": {
              "outlinewidth": 0,
              "ticks": ""
             }
            },
            "type": "parcoords"
           }
          ],
          "pie": [
           {
            "automargin": true,
            "type": "pie"
           }
          ],
          "scatter": [
           {
            "fillpattern": {
             "fillmode": "overlay",
             "size": 10,
             "solidity": 0.2
            },
            "type": "scatter"
           }
          ],
          "scatter3d": [
           {
            "line": {
             "colorbar": {
              "outlinewidth": 0,
              "ticks": ""
             }
            },
            "marker": {
             "colorbar": {
              "outlinewidth": 0,
              "ticks": ""
             }
            },
            "type": "scatter3d"
           }
          ],
          "scattercarpet": [
           {
            "marker": {
             "colorbar": {
              "outlinewidth": 0,
              "ticks": ""
             }
            },
            "type": "scattercarpet"
           }
          ],
          "scattergeo": [
           {
            "marker": {
             "colorbar": {
              "outlinewidth": 0,
              "ticks": ""
             }
            },
            "type": "scattergeo"
           }
          ],
          "scattergl": [
           {
            "marker": {
             "colorbar": {
              "outlinewidth": 0,
              "ticks": ""
             }
            },
            "type": "scattergl"
           }
          ],
          "scattermapbox": [
           {
            "marker": {
             "colorbar": {
              "outlinewidth": 0,
              "ticks": ""
             }
            },
            "type": "scattermapbox"
           }
          ],
          "scatterpolar": [
           {
            "marker": {
             "colorbar": {
              "outlinewidth": 0,
              "ticks": ""
             }
            },
            "type": "scatterpolar"
           }
          ],
          "scatterpolargl": [
           {
            "marker": {
             "colorbar": {
              "outlinewidth": 0,
              "ticks": ""
             }
            },
            "type": "scatterpolargl"
           }
          ],
          "scatterternary": [
           {
            "marker": {
             "colorbar": {
              "outlinewidth": 0,
              "ticks": ""
             }
            },
            "type": "scatterternary"
           }
          ],
          "surface": [
           {
            "colorbar": {
             "outlinewidth": 0,
             "ticks": ""
            },
            "colorscale": [
             [
              0,
              "#0d0887"
             ],
             [
              0.1111111111111111,
              "#46039f"
             ],
             [
              0.2222222222222222,
              "#7201a8"
             ],
             [
              0.3333333333333333,
              "#9c179e"
             ],
             [
              0.4444444444444444,
              "#bd3786"
             ],
             [
              0.5555555555555556,
              "#d8576b"
             ],
             [
              0.6666666666666666,
              "#ed7953"
             ],
             [
              0.7777777777777778,
              "#fb9f3a"
             ],
             [
              0.8888888888888888,
              "#fdca26"
             ],
             [
              1,
              "#f0f921"
             ]
            ],
            "type": "surface"
           }
          ],
          "table": [
           {
            "cells": {
             "fill": {
              "color": "#EBF0F8"
             },
             "line": {
              "color": "white"
             }
            },
            "header": {
             "fill": {
              "color": "#C8D4E3"
             },
             "line": {
              "color": "white"
             }
            },
            "type": "table"
           }
          ]
         },
         "layout": {
          "annotationdefaults": {
           "arrowcolor": "#2a3f5f",
           "arrowhead": 0,
           "arrowwidth": 1
          },
          "autotypenumbers": "strict",
          "coloraxis": {
           "colorbar": {
            "outlinewidth": 0,
            "ticks": ""
           }
          },
          "colorscale": {
           "diverging": [
            [
             0,
             "#8e0152"
            ],
            [
             0.1,
             "#c51b7d"
            ],
            [
             0.2,
             "#de77ae"
            ],
            [
             0.3,
             "#f1b6da"
            ],
            [
             0.4,
             "#fde0ef"
            ],
            [
             0.5,
             "#f7f7f7"
            ],
            [
             0.6,
             "#e6f5d0"
            ],
            [
             0.7,
             "#b8e186"
            ],
            [
             0.8,
             "#7fbc41"
            ],
            [
             0.9,
             "#4d9221"
            ],
            [
             1,
             "#276419"
            ]
           ],
           "sequential": [
            [
             0,
             "#0d0887"
            ],
            [
             0.1111111111111111,
             "#46039f"
            ],
            [
             0.2222222222222222,
             "#7201a8"
            ],
            [
             0.3333333333333333,
             "#9c179e"
            ],
            [
             0.4444444444444444,
             "#bd3786"
            ],
            [
             0.5555555555555556,
             "#d8576b"
            ],
            [
             0.6666666666666666,
             "#ed7953"
            ],
            [
             0.7777777777777778,
             "#fb9f3a"
            ],
            [
             0.8888888888888888,
             "#fdca26"
            ],
            [
             1,
             "#f0f921"
            ]
           ],
           "sequentialminus": [
            [
             0,
             "#0d0887"
            ],
            [
             0.1111111111111111,
             "#46039f"
            ],
            [
             0.2222222222222222,
             "#7201a8"
            ],
            [
             0.3333333333333333,
             "#9c179e"
            ],
            [
             0.4444444444444444,
             "#bd3786"
            ],
            [
             0.5555555555555556,
             "#d8576b"
            ],
            [
             0.6666666666666666,
             "#ed7953"
            ],
            [
             0.7777777777777778,
             "#fb9f3a"
            ],
            [
             0.8888888888888888,
             "#fdca26"
            ],
            [
             1,
             "#f0f921"
            ]
           ]
          },
          "colorway": [
           "#636efa",
           "#EF553B",
           "#00cc96",
           "#ab63fa",
           "#FFA15A",
           "#19d3f3",
           "#FF6692",
           "#B6E880",
           "#FF97FF",
           "#FECB52"
          ],
          "font": {
           "color": "#2a3f5f"
          },
          "geo": {
           "bgcolor": "white",
           "lakecolor": "white",
           "landcolor": "#E5ECF6",
           "showlakes": true,
           "showland": true,
           "subunitcolor": "white"
          },
          "hoverlabel": {
           "align": "left"
          },
          "hovermode": "closest",
          "mapbox": {
           "style": "light"
          },
          "paper_bgcolor": "white",
          "plot_bgcolor": "#E5ECF6",
          "polar": {
           "angularaxis": {
            "gridcolor": "white",
            "linecolor": "white",
            "ticks": ""
           },
           "bgcolor": "#E5ECF6",
           "radialaxis": {
            "gridcolor": "white",
            "linecolor": "white",
            "ticks": ""
           }
          },
          "scene": {
           "xaxis": {
            "backgroundcolor": "#E5ECF6",
            "gridcolor": "white",
            "gridwidth": 2,
            "linecolor": "white",
            "showbackground": true,
            "ticks": "",
            "zerolinecolor": "white"
           },
           "yaxis": {
            "backgroundcolor": "#E5ECF6",
            "gridcolor": "white",
            "gridwidth": 2,
            "linecolor": "white",
            "showbackground": true,
            "ticks": "",
            "zerolinecolor": "white"
           },
           "zaxis": {
            "backgroundcolor": "#E5ECF6",
            "gridcolor": "white",
            "gridwidth": 2,
            "linecolor": "white",
            "showbackground": true,
            "ticks": "",
            "zerolinecolor": "white"
           }
          },
          "shapedefaults": {
           "line": {
            "color": "#2a3f5f"
           }
          },
          "ternary": {
           "aaxis": {
            "gridcolor": "white",
            "linecolor": "white",
            "ticks": ""
           },
           "baxis": {
            "gridcolor": "white",
            "linecolor": "white",
            "ticks": ""
           },
           "bgcolor": "#E5ECF6",
           "caxis": {
            "gridcolor": "white",
            "linecolor": "white",
            "ticks": ""
           }
          },
          "title": {
           "x": 0.05
          },
          "xaxis": {
           "automargin": true,
           "gridcolor": "white",
           "linecolor": "white",
           "ticks": "",
           "title": {
            "standoff": 15
           },
           "zerolinecolor": "white",
           "zerolinewidth": 2
          },
          "yaxis": {
           "automargin": true,
           "gridcolor": "white",
           "linecolor": "white",
           "ticks": "",
           "title": {
            "standoff": 15
           },
           "zerolinecolor": "white",
           "zerolinewidth": 2
          }
         }
        }
       }
      },
      "text/html": [
       "<div>                            <div id=\"3dac56f4-ea4e-4918-91b6-646d99a4f63f\" class=\"plotly-graph-div\" style=\"height:400px; width:100%;\"></div>            <script type=\"text/javascript\">                require([\"plotly\"], function(Plotly) {                    window.PLOTLYENV=window.PLOTLYENV || {};                                    if (document.getElementById(\"3dac56f4-ea4e-4918-91b6-646d99a4f63f\")) {                    Plotly.newPlot(                        \"3dac56f4-ea4e-4918-91b6-646d99a4f63f\",                        [{\"lat\":[\"-39.9108\",\"-41.0502\",\"-42.1318\",\"-43.1716\",\"-44.1831\",\"-45.1297\",\"-46.0251\",\"-46.8798\",\"-47.6621\",\"-48.3828\",\"-49.0494\",\"-49.6366\",\"-50.1528\",\"-50.6018\",\"-50.9663\",\"-51.2521\",\"-51.4573\",\"-51.5821\",\"-51.6214\",\"-51.5779\",\"-51.4489\",\"-51.2395\",\"-50.9497\",\"-50.5744\",\"-50.1282\",\"-49.6082\",\"-49.0070\",\"-48.3469\",\"-47.6225\",\"-46.8371\",\"-45.9793\",\"-45.0809\",\"-44.1315\",\"-43.1172\",\"-42.0747\",\"-40.9907\",\"-39.8488\",\"-38.6890\",\"-37.4758\",\"-36.2514\",\"-34.9986\",\"-33.6975\",\"-32.3930\",\"-31.0435\",\"-29.6954\",\"-28.3281\",\"-26.9199\",\"-25.5184\",\"-24.0783\",\"-22.6477\",\"-21.2047\",\"-19.7258\",\"-18.2609\",\"-16.7617\",\"-15.2787\",\"-13.7884\",\"-12.2662\",\"-10.7581\",\"-9.2500\",\"-7.7124\",\"-6.1965\",\"-4.6777\",\"-3.1312\",\"-1.6089\",\"-0.0604\",\"1.4628\",\"3.0109\",\"4.5325\",\"6.0521\",\"7.5942\",\"9.1073\",\"10.6415\",\"12.1455\",\"13.6439\",\"15.1606\",\"16.6451\",\"18.1214\",\"19.6132\",\"21.0699\",\"22.5395\",\"23.9722\",\"25.3914\",\"26.8192\",\"28.2073\",\"29.6005\",\"30.9517\",\"32.2821\",\"33.6118\",\"34.8947\",\"36.1722\",\"37.3999\",\"38.5968\",\"39.7795\",\"40.9069\",\"42.0133\",\"43.0597\",\"44.0620\",\"45.0324\",\"45.9350\",\"46.7969\",\"47.5864\",\"48.3148\",\"48.9892\",\"49.5841\",\"50.1160\",\"50.5647\",\"50.9424\",\"51.2345\",\"51.4457\",\"51.5764\",\"51.6214\",\"51.5818\",\"51.4592\",\"51.2545\",\"50.9635\",\"50.5976\",\"50.1471\",\"49.5898\",\"48.9955\",\"48.3217\"],\"lon\":[\"-142.0324\",\"-140.0445\",\"-138.0176\",\"-135.9176\",\"-133.7049\",\"-131.4509\",\"-129.1187\",\"-126.6669\",\"-124.1766\",\"-121.6106\",\"-118.9259\",\"-116.2147\",\"-113.4383\",\"-110.5554\",\"-107.6681\",\"-104.7385\",\"-101.7757\",\"-98.7413\",\"-95.7448\",\"-92.7492\",\"-89.7150\",\"-86.7540\",\"-83.8261\",\"-80.8933\",\"-78.0603\",\"-75.2864\",\"-72.5340\",\"-69.8956\",\"-67.3325\",\"-64.8462\",\"-62.3981\",\"-60.0694\",\"-57.8190\",\"-55.6099\",\"-53.5130\",\"-51.4896\",\"-49.5046\",\"-47.6202\",\"-45.7712\",\"-44.0151\",\"-42.3179\",\"-40.6491\",\"-39.0604\",\"-37.4957\",\"-36.0035\",\"-34.5545\",\"-33.1225\",\"-31.7518\",\"-30.3938\",\"-29.0902\",\"-27.8161\",\"-26.5487\",\"-25.3271\",\"-24.1082\",\"-22.9298\",\"-21.7699\",\"-20.6073\",\"-19.4745\",\"-18.3580\",\"-17.2337\",\"-16.1368\",\"-15.0467\",\"-13.9438\",\"-12.8627\",\"-11.7653\",\"-10.6859\",\"-9.5868\",\"-8.5020\",\"-7.4122\",\"-6.2972\",\"-5.1918\",\"-4.0572\",\"-2.9288\",\"-1.7861\",\"-0.6076\",\"0.5700\",\"1.7679\",\"3.0093\",\"4.2548\",\"5.5491\",\"6.8516\",\"8.1861\",\"9.5784\",\"10.9857\",\"12.4575\",\"13.9486\",\"15.4858\",\"17.0993\",\"18.7385\",\"20.4622\",\"22.2167\",\"24.0332\",\"25.9464\",\"27.8970\",\"29.9526\",\"32.0484\",\"34.2203\",\"36.5086\",\"38.8370\",\"41.2851\",\"43.7716\",\"46.3353\",\"49.0181\",\"51.7280\",\"54.5500\",\"57.3863\",\"60.3231\",\"63.2558\",\"66.2214\",\"69.2604\",\"72.2618\",\"75.3137\",\"78.3041\",\"81.2722\",\"84.2559\",\"87.1477\",\"90.0347\",\"93.0296\",\"95.7402\",\"98.4232\"],\"type\":\"scattergeo\"}],                        {\"template\":{\"data\":{\"histogram2dcontour\":[{\"type\":\"histogram2dcontour\",\"colorbar\":{\"outlinewidth\":0,\"ticks\":\"\"},\"colorscale\":[[0.0,\"#0d0887\"],[0.1111111111111111,\"#46039f\"],[0.2222222222222222,\"#7201a8\"],[0.3333333333333333,\"#9c179e\"],[0.4444444444444444,\"#bd3786\"],[0.5555555555555556,\"#d8576b\"],[0.6666666666666666,\"#ed7953\"],[0.7777777777777778,\"#fb9f3a\"],[0.8888888888888888,\"#fdca26\"],[1.0,\"#f0f921\"]]}],\"choropleth\":[{\"type\":\"choropleth\",\"colorbar\":{\"outlinewidth\":0,\"ticks\":\"\"}}],\"histogram2d\":[{\"type\":\"histogram2d\",\"colorbar\":{\"outlinewidth\":0,\"ticks\":\"\"},\"colorscale\":[[0.0,\"#0d0887\"],[0.1111111111111111,\"#46039f\"],[0.2222222222222222,\"#7201a8\"],[0.3333333333333333,\"#9c179e\"],[0.4444444444444444,\"#bd3786\"],[0.5555555555555556,\"#d8576b\"],[0.6666666666666666,\"#ed7953\"],[0.7777777777777778,\"#fb9f3a\"],[0.8888888888888888,\"#fdca26\"],[1.0,\"#f0f921\"]]}],\"heatmap\":[{\"type\":\"heatmap\",\"colorbar\":{\"outlinewidth\":0,\"ticks\":\"\"},\"colorscale\":[[0.0,\"#0d0887\"],[0.1111111111111111,\"#46039f\"],[0.2222222222222222,\"#7201a8\"],[0.3333333333333333,\"#9c179e\"],[0.4444444444444444,\"#bd3786\"],[0.5555555555555556,\"#d8576b\"],[0.6666666666666666,\"#ed7953\"],[0.7777777777777778,\"#fb9f3a\"],[0.8888888888888888,\"#fdca26\"],[1.0,\"#f0f921\"]]}],\"heatmapgl\":[{\"type\":\"heatmapgl\",\"colorbar\":{\"outlinewidth\":0,\"ticks\":\"\"},\"colorscale\":[[0.0,\"#0d0887\"],[0.1111111111111111,\"#46039f\"],[0.2222222222222222,\"#7201a8\"],[0.3333333333333333,\"#9c179e\"],[0.4444444444444444,\"#bd3786\"],[0.5555555555555556,\"#d8576b\"],[0.6666666666666666,\"#ed7953\"],[0.7777777777777778,\"#fb9f3a\"],[0.8888888888888888,\"#fdca26\"],[1.0,\"#f0f921\"]]}],\"contourcarpet\":[{\"type\":\"contourcarpet\",\"colorbar\":{\"outlinewidth\":0,\"ticks\":\"\"}}],\"contour\":[{\"type\":\"contour\",\"colorbar\":{\"outlinewidth\":0,\"ticks\":\"\"},\"colorscale\":[[0.0,\"#0d0887\"],[0.1111111111111111,\"#46039f\"],[0.2222222222222222,\"#7201a8\"],[0.3333333333333333,\"#9c179e\"],[0.4444444444444444,\"#bd3786\"],[0.5555555555555556,\"#d8576b\"],[0.6666666666666666,\"#ed7953\"],[0.7777777777777778,\"#fb9f3a\"],[0.8888888888888888,\"#fdca26\"],[1.0,\"#f0f921\"]]}],\"surface\":[{\"type\":\"surface\",\"colorbar\":{\"outlinewidth\":0,\"ticks\":\"\"},\"colorscale\":[[0.0,\"#0d0887\"],[0.1111111111111111,\"#46039f\"],[0.2222222222222222,\"#7201a8\"],[0.3333333333333333,\"#9c179e\"],[0.4444444444444444,\"#bd3786\"],[0.5555555555555556,\"#d8576b\"],[0.6666666666666666,\"#ed7953\"],[0.7777777777777778,\"#fb9f3a\"],[0.8888888888888888,\"#fdca26\"],[1.0,\"#f0f921\"]]}],\"mesh3d\":[{\"type\":\"mesh3d\",\"colorbar\":{\"outlinewidth\":0,\"ticks\":\"\"}}],\"scatter\":[{\"fillpattern\":{\"fillmode\":\"overlay\",\"size\":10,\"solidity\":0.2},\"type\":\"scatter\"}],\"parcoords\":[{\"type\":\"parcoords\",\"line\":{\"colorbar\":{\"outlinewidth\":0,\"ticks\":\"\"}}}],\"scatterpolargl\":[{\"type\":\"scatterpolargl\",\"marker\":{\"colorbar\":{\"outlinewidth\":0,\"ticks\":\"\"}}}],\"bar\":[{\"error_x\":{\"color\":\"#2a3f5f\"},\"error_y\":{\"color\":\"#2a3f5f\"},\"marker\":{\"line\":{\"color\":\"#E5ECF6\",\"width\":0.5},\"pattern\":{\"fillmode\":\"overlay\",\"size\":10,\"solidity\":0.2}},\"type\":\"bar\"}],\"scattergeo\":[{\"type\":\"scattergeo\",\"marker\":{\"colorbar\":{\"outlinewidth\":0,\"ticks\":\"\"}}}],\"scatterpolar\":[{\"type\":\"scatterpolar\",\"marker\":{\"colorbar\":{\"outlinewidth\":0,\"ticks\":\"\"}}}],\"histogram\":[{\"marker\":{\"pattern\":{\"fillmode\":\"overlay\",\"size\":10,\"solidity\":0.2}},\"type\":\"histogram\"}],\"scattergl\":[{\"type\":\"scattergl\",\"marker\":{\"colorbar\":{\"outlinewidth\":0,\"ticks\":\"\"}}}],\"scatter3d\":[{\"type\":\"scatter3d\",\"line\":{\"colorbar\":{\"outlinewidth\":0,\"ticks\":\"\"}},\"marker\":{\"colorbar\":{\"outlinewidth\":0,\"ticks\":\"\"}}}],\"scattermapbox\":[{\"type\":\"scattermapbox\",\"marker\":{\"colorbar\":{\"outlinewidth\":0,\"ticks\":\"\"}}}],\"scatterternary\":[{\"type\":\"scatterternary\",\"marker\":{\"colorbar\":{\"outlinewidth\":0,\"ticks\":\"\"}}}],\"scattercarpet\":[{\"type\":\"scattercarpet\",\"marker\":{\"colorbar\":{\"outlinewidth\":0,\"ticks\":\"\"}}}],\"carpet\":[{\"aaxis\":{\"endlinecolor\":\"#2a3f5f\",\"gridcolor\":\"white\",\"linecolor\":\"white\",\"minorgridcolor\":\"white\",\"startlinecolor\":\"#2a3f5f\"},\"baxis\":{\"endlinecolor\":\"#2a3f5f\",\"gridcolor\":\"white\",\"linecolor\":\"white\",\"minorgridcolor\":\"white\",\"startlinecolor\":\"#2a3f5f\"},\"type\":\"carpet\"}],\"table\":[{\"cells\":{\"fill\":{\"color\":\"#EBF0F8\"},\"line\":{\"color\":\"white\"}},\"header\":{\"fill\":{\"color\":\"#C8D4E3\"},\"line\":{\"color\":\"white\"}},\"type\":\"table\"}],\"barpolar\":[{\"marker\":{\"line\":{\"color\":\"#E5ECF6\",\"width\":0.5},\"pattern\":{\"fillmode\":\"overlay\",\"size\":10,\"solidity\":0.2}},\"type\":\"barpolar\"}],\"pie\":[{\"automargin\":true,\"type\":\"pie\"}]},\"layout\":{\"autotypenumbers\":\"strict\",\"colorway\":[\"#636efa\",\"#EF553B\",\"#00cc96\",\"#ab63fa\",\"#FFA15A\",\"#19d3f3\",\"#FF6692\",\"#B6E880\",\"#FF97FF\",\"#FECB52\"],\"font\":{\"color\":\"#2a3f5f\"},\"hovermode\":\"closest\",\"hoverlabel\":{\"align\":\"left\"},\"paper_bgcolor\":\"white\",\"plot_bgcolor\":\"#E5ECF6\",\"polar\":{\"bgcolor\":\"#E5ECF6\",\"angularaxis\":{\"gridcolor\":\"white\",\"linecolor\":\"white\",\"ticks\":\"\"},\"radialaxis\":{\"gridcolor\":\"white\",\"linecolor\":\"white\",\"ticks\":\"\"}},\"ternary\":{\"bgcolor\":\"#E5ECF6\",\"aaxis\":{\"gridcolor\":\"white\",\"linecolor\":\"white\",\"ticks\":\"\"},\"baxis\":{\"gridcolor\":\"white\",\"linecolor\":\"white\",\"ticks\":\"\"},\"caxis\":{\"gridcolor\":\"white\",\"linecolor\":\"white\",\"ticks\":\"\"}},\"coloraxis\":{\"colorbar\":{\"outlinewidth\":0,\"ticks\":\"\"}},\"colorscale\":{\"sequential\":[[0.0,\"#0d0887\"],[0.1111111111111111,\"#46039f\"],[0.2222222222222222,\"#7201a8\"],[0.3333333333333333,\"#9c179e\"],[0.4444444444444444,\"#bd3786\"],[0.5555555555555556,\"#d8576b\"],[0.6666666666666666,\"#ed7953\"],[0.7777777777777778,\"#fb9f3a\"],[0.8888888888888888,\"#fdca26\"],[1.0,\"#f0f921\"]],\"sequentialminus\":[[0.0,\"#0d0887\"],[0.1111111111111111,\"#46039f\"],[0.2222222222222222,\"#7201a8\"],[0.3333333333333333,\"#9c179e\"],[0.4444444444444444,\"#bd3786\"],[0.5555555555555556,\"#d8576b\"],[0.6666666666666666,\"#ed7953\"],[0.7777777777777778,\"#fb9f3a\"],[0.8888888888888888,\"#fdca26\"],[1.0,\"#f0f921\"]],\"diverging\":[[0,\"#8e0152\"],[0.1,\"#c51b7d\"],[0.2,\"#de77ae\"],[0.3,\"#f1b6da\"],[0.4,\"#fde0ef\"],[0.5,\"#f7f7f7\"],[0.6,\"#e6f5d0\"],[0.7,\"#b8e186\"],[0.8,\"#7fbc41\"],[0.9,\"#4d9221\"],[1,\"#276419\"]]},\"xaxis\":{\"gridcolor\":\"white\",\"linecolor\":\"white\",\"ticks\":\"\",\"title\":{\"standoff\":15},\"zerolinecolor\":\"white\",\"automargin\":true,\"zerolinewidth\":2},\"yaxis\":{\"gridcolor\":\"white\",\"linecolor\":\"white\",\"ticks\":\"\",\"title\":{\"standoff\":15},\"zerolinecolor\":\"white\",\"automargin\":true,\"zerolinewidth\":2},\"scene\":{\"xaxis\":{\"backgroundcolor\":\"#E5ECF6\",\"gridcolor\":\"white\",\"linecolor\":\"white\",\"showbackground\":true,\"ticks\":\"\",\"zerolinecolor\":\"white\",\"gridwidth\":2},\"yaxis\":{\"backgroundcolor\":\"#E5ECF6\",\"gridcolor\":\"white\",\"linecolor\":\"white\",\"showbackground\":true,\"ticks\":\"\",\"zerolinecolor\":\"white\",\"gridwidth\":2},\"zaxis\":{\"backgroundcolor\":\"#E5ECF6\",\"gridcolor\":\"white\",\"linecolor\":\"white\",\"showbackground\":true,\"ticks\":\"\",\"zerolinecolor\":\"white\",\"gridwidth\":2}},\"shapedefaults\":{\"line\":{\"color\":\"#2a3f5f\"}},\"annotationdefaults\":{\"arrowcolor\":\"#2a3f5f\",\"arrowhead\":0,\"arrowwidth\":1},\"geo\":{\"bgcolor\":\"white\",\"landcolor\":\"#E5ECF6\",\"subunitcolor\":\"white\",\"showland\":true,\"showlakes\":true,\"lakecolor\":\"white\"},\"title\":{\"x\":0.05},\"mapbox\":{\"style\":\"light\"}}},\"margin\":{\"r\":0,\"t\":0,\"l\":0,\"b\":0},\"height\":400},                        {\"responsive\": true}                    ).then(function(){\n",
       "                            \n",
       "var gd = document.getElementById('3dac56f4-ea4e-4918-91b6-646d99a4f63f');\n",
       "var x = new MutationObserver(function (mutations, observer) {{\n",
       "        var display = window.getComputedStyle(gd).display;\n",
       "        if (!display || display === 'none') {{\n",
       "            console.log([gd, 'removed!']);\n",
       "            Plotly.purge(gd);\n",
       "            observer.disconnect();\n",
       "        }}\n",
       "}});\n",
       "\n",
       "// Listen for the removal of the full notebook cells\n",
       "var notebookContainer = gd.closest('#notebook-container');\n",
       "if (notebookContainer) {{\n",
       "    x.observe(notebookContainer, {childList: true});\n",
       "}}\n",
       "\n",
       "// Listen for the clearing of the current output cell\n",
       "var outputEl = gd.closest('.output');\n",
       "if (outputEl) {{\n",
       "    x.observe(outputEl, {childList: true});\n",
       "}}\n",
       "\n",
       "                        })                };                });            </script>        </div>"
      ]
     },
     "metadata": {},
     "output_type": "display_data"
    }
   ],
   "source": [
    "\n",
    "#print(type(go.Figure()))\n",
    "#print(type(go.Scattergeo()))\n",
    "#dir(go.Scattergeo())\n",
    "fig = go.Figure(go.Scattergeo(lat=lat_lst,lon=lon_lst))\n",
    "fig.update_layout(height=400, margin={\"r\":0,\"t\":0,\"l\":0,\"b\":0})\n",
    "print(type(fig))\n",
    "fig.show()"
   ]
  },
  {
   "cell_type": "code",
   "execution_count": null,
   "id": "c5060613",
   "metadata": {},
   "outputs": [],
   "source": []
  }
 ],
 "metadata": {
  "kernelspec": {
   "display_name": "Python 3 (ipykernel)",
   "language": "python",
   "name": "python3"
  },
  "language_info": {
   "codemirror_mode": {
    "name": "ipython",
    "version": 3
   },
   "file_extension": ".py",
   "mimetype": "text/x-python",
   "name": "python",
   "nbconvert_exporter": "python",
   "pygments_lexer": "ipython3",
   "version": "3.10.4"
  }
 },
 "nbformat": 4,
 "nbformat_minor": 5
}
